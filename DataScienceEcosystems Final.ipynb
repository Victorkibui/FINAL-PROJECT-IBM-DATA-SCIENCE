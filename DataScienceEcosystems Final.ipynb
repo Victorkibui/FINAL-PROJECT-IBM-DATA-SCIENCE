{
 "cells": [
  {
   "cell_type": "markdown",
   "id": "2fe66faa",
   "metadata": {},
   "source": [
    "# Data Science Tools and Ecosystems"
   ]
  },
  {
   "cell_type": "markdown",
   "id": "f11be9d6",
   "metadata": {},
   "source": [
    "In this notebook, Data Science and Ecosystem are summarized"
   ]
  },
  {
   "cell_type": "markdown",
   "id": "4e151ea4",
   "metadata": {},
   "source": [
    "# **Objectives**"
   ]
  },
  {
   "cell_type": "markdown",
   "id": "902de24e",
   "metadata": {},
   "source": [
    "* How to create a Jupyter notebook\n",
    "* How to rename a Jupyter notebook\n",
    "* How to instert a mackdown column\n",
    "* How to insert a code column\n",
    "* How to instert an arithmetic formulae in a Jupyter notebook"
   ]
  },
  {
   "cell_type": "markdown",
   "id": "9bc27ff8",
   "metadata": {},
   "source": [
    "some of the popular languages tha Data Scietists use are are:\n",
    "    1. Python\n",
    "    2. R\n",
    "    3. SQL\n",
    "    4. Julia"
   ]
  },
  {
   "cell_type": "markdown",
   "id": "06f7edb6",
   "metadata": {},
   "source": [
    "some of the commonly used libraries used by Data Scientists include:"
   ]
  },
  {
   "cell_type": "markdown",
   "id": "8671495e",
   "metadata": {},
   "source": [
    "1. TensoFlow\n",
    "2. scikit-learn\n",
    "3. PyTorch\n",
    "4. Caffe"
   ]
  },
  {
   "cell_type": "markdown",
   "id": "99d9f7d7",
   "metadata": {},
   "source": [
    "Data Science Tools"
   ]
  },
  {
   "cell_type": "markdown",
   "id": "2eff7519",
   "metadata": {},
   "source": [
    "|Data Science Tools|\n",
    "|-|\n",
    "|Panda|\n",
    "|Python|\n",
    "|Numpy|\n",
    "|Jupyter|"
   ]
  },
  {
   "cell_type": "markdown",
   "id": "bbafc3ec",
   "metadata": {},
   "source": [
    "Arithmetic expressions"
   ]
  },
  {
   "cell_type": "markdown",
   "id": "3ebc251a",
   "metadata": {},
   "source": [
    "2*2"
   ]
  },
  {
   "cell_type": "markdown",
   "id": "5cf64795",
   "metadata": {},
   "source": [
    "4/2"
   ]
  },
  {
   "cell_type": "markdown",
   "id": "999df9f5",
   "metadata": {},
   "source": [
    "4//2"
   ]
  },
  {
   "cell_type": "markdown",
   "id": "c0afb882",
   "metadata": {},
   "source": [
    "Code cell multiply and add numbers"
   ]
  },
  {
   "cell_type": "code",
   "execution_count": 3,
   "id": "cc42dc4e",
   "metadata": {},
   "outputs": [
    {
     "data": {
      "text/plain": [
       "17"
      ]
     },
     "execution_count": 3,
     "metadata": {},
     "output_type": "execute_result"
    }
   ],
   "source": [
    "(3*4)+5"
   ]
  },
  {
   "cell_type": "markdown",
   "id": "c963cad3",
   "metadata": {},
   "source": [
    "Convert 200 minutes into hours by dividing by 60"
   ]
  },
  {
   "cell_type": "code",
   "execution_count": 5,
   "id": "22d40777",
   "metadata": {},
   "outputs": [
    {
     "data": {
      "text/plain": [
       "3.3333333333333335"
      ]
     },
     "execution_count": 5,
     "metadata": {},
     "output_type": "execute_result"
    }
   ],
   "source": [
    "200/60"
   ]
  },
  {
   "cell_type": "markdown",
   "id": "bcb58cdd",
   "metadata": {},
   "source": [
    "# Author"
   ]
  },
  {
   "cell_type": "markdown",
   "id": "ccc7fb89",
   "metadata": {},
   "source": [
    "VICTOR NJUGUNA KIBUI"
   ]
  },
  {
   "cell_type": "code",
   "execution_count": null,
   "id": "8c266bb4",
   "metadata": {},
   "outputs": [],
   "source": []
  }
 ],
 "metadata": {
  "kernelspec": {
   "display_name": "Python 3 (ipykernel)",
   "language": "python",
   "name": "python3"
  },
  "language_info": {
   "codemirror_mode": {
    "name": "ipython",
    "version": 3
   },
   "file_extension": ".py",
   "mimetype": "text/x-python",
   "name": "python",
   "nbconvert_exporter": "python",
   "pygments_lexer": "ipython3",
   "version": "3.11.4"
  }
 },
 "nbformat": 4,
 "nbformat_minor": 5
}
